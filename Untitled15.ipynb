{
  "nbformat": 4,
  "nbformat_minor": 0,
  "metadata": {
    "colab": {
      "provenance": [],
      "toc_visible": true,
      "authorship_tag": "ABX9TyPBo+Ok521Pj8s4fAx0bneY",
      "include_colab_link": true
    },
    "kernelspec": {
      "name": "python3",
      "display_name": "Python 3"
    },
    "language_info": {
      "name": "python"
    }
  },
  "cells": [
    {
      "cell_type": "markdown",
      "metadata": {
        "id": "view-in-github",
        "colab_type": "text"
      },
      "source": [
        "<a href=\"https://colab.research.google.com/github/madhupanner932-pixel/List/blob/main/Untitled15.ipynb\" target=\"_parent\"><img src=\"https://colab.research.google.com/assets/colab-badge.svg\" alt=\"Open In Colab\"/></a>"
      ]
    },
    {
      "cell_type": "code",
      "execution_count": 26,
      "metadata": {
        "colab": {
          "base_uri": "https://localhost:8080/",
          "height": 404
        },
        "id": "6XruSdP2zajc",
        "outputId": "3d80512d-a879-4728-cb6d-645ed1d19117"
      },
      "outputs": [
        {
          "output_type": "stream",
          "name": "stdout",
          "text": [
            "[['madhu', 'madhu', 'madhu', 'madhu'], ['madhu', 'madhu', 'madhu', 'madhu'], ['madhu', 'madhu', 'madhu', 'madhu'], ['madhu', 'madhu', 'madhu', 'madhu'], ['madhu', 'madhu', 'madhu', 'madhu'], ['madhu', 'madhu', 'madhu', 'madhu'], ['madhu', 'madhu', 'madhu', 'madhu'], ['madhu', 'madhu', 'madhu', 'madhu'], ['madhu', 'madhu', 'madhu', 'madhu'], ['madhu', 'madhu', 'madhu', 'madhu']]\n",
            "2 3 4 ['2', '3', '4', 5]\n",
            "['2', '3', '4', 4, 5]\n",
            "['2', '3', '4', 4]\n",
            "['3', '4', 4]\n",
            "madhu\n",
            "preethi\n",
            "sasi\n",
            "nivithSRI\n",
            "['3', '4', 'madhu']\n",
            "['3', '4']\n",
            "['madhu', '4', '3']\n"
          ]
        },
        {
          "output_type": "error",
          "ename": "TypeError",
          "evalue": "type 'reversed' is not subscriptable",
          "traceback": [
            "\u001b[0;31m---------------------------------------------------------------------------\u001b[0m",
            "\u001b[0;31mTypeError\u001b[0m                                 Traceback (most recent call last)",
            "\u001b[0;32m/tmp/ipython-input-1472751714.py\u001b[0m in \u001b[0;36m<cell line: 0>\u001b[0;34m()\u001b[0m\n\u001b[1;32m     25\u001b[0m \u001b[0mprint\u001b[0m\u001b[0;34m(\u001b[0m\u001b[0ma\u001b[0m\u001b[0;34m[\u001b[0m\u001b[0;36m0\u001b[0m\u001b[0;34m:\u001b[0m\u001b[0;36m2\u001b[0m\u001b[0;34m]\u001b[0m\u001b[0;34m)\u001b[0m\u001b[0;34m\u001b[0m\u001b[0;34m\u001b[0m\u001b[0m\n\u001b[1;32m     26\u001b[0m \u001b[0mprint\u001b[0m\u001b[0;34m(\u001b[0m\u001b[0ma\u001b[0m\u001b[0;34m[\u001b[0m\u001b[0;34m:\u001b[0m\u001b[0;34m:\u001b[0m\u001b[0;34m-\u001b[0m\u001b[0;36m1\u001b[0m\u001b[0;34m]\u001b[0m\u001b[0;34m)\u001b[0m\u001b[0;34m\u001b[0m\u001b[0;34m\u001b[0m\u001b[0m\n\u001b[0;32m---> 27\u001b[0;31m \u001b[0mprint\u001b[0m\u001b[0;34m(\u001b[0m\u001b[0mreversed\u001b[0m\u001b[0;34m[\u001b[0m\u001b[0ma\u001b[0m\u001b[0;34m]\u001b[0m\u001b[0;34m)\u001b[0m\u001b[0;34m\u001b[0m\u001b[0;34m\u001b[0m\u001b[0m\n\u001b[0m",
            "\u001b[0;31mTypeError\u001b[0m: type 'reversed' is not subscriptable"
          ]
        }
      ],
      "source": [
        "m=4\n",
        "z=10\n",
        "s='madhu'\n",
        "name=[[s for i in range (m)]for i in range (z)]\n",
        "print(name)\n",
        "#traversal\n",
        "a=['2','3','4']\n",
        "for i in a:\n",
        "  print(i,end=' ')\n",
        "a.append(5)\n",
        "print(a)\n",
        "a.insert(3,4)\n",
        "print(a)\n",
        "a.remove(5)\n",
        "print(a)\n",
        "del a[0]\n",
        "print(a)\n",
        "#iterating over list\n",
        "name=['madhu','preethi','sasi','nivithSRI']\n",
        "for i in name:\n",
        "  print(i)\n",
        "  #updatind a list\n",
        "a[2]='madhu'\n",
        "print(a)\n",
        "print(a[0:2])\n",
        "print(a[::-1])\n",
        "\n"
      ]
    }
  ]
}