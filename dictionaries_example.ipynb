{
  "nbformat": 4,
  "nbformat_minor": 0,
  "metadata": {
    "colab": {
      "provenance": [],
      "authorship_tag": "ABX9TyM5B85UaiMfcreujo/dKthd",
      "include_colab_link": true
    },
    "kernelspec": {
      "name": "python3",
      "display_name": "Python 3"
    },
    "language_info": {
      "name": "python"
    }
  },
  "cells": [
    {
      "cell_type": "markdown",
      "metadata": {
        "id": "view-in-github",
        "colab_type": "text"
      },
      "source": [
        "<a href=\"https://colab.research.google.com/github/madhupanner932-pixel/List/blob/main/dictionaries_example.ipynb\" target=\"_parent\"><img src=\"https://colab.research.google.com/assets/colab-badge.svg\" alt=\"Open In Colab\"/></a>"
      ]
    },
    {
      "cell_type": "code",
      "execution_count": null,
      "metadata": {
        "colab": {
          "base_uri": "https://localhost:8080/"
        },
        "id": "WGofqdfO1jG9",
        "outputId": "9006fc39-5cd3-471f-de3d-9dc67b1dcfc5"
      },
      "outputs": [
        {
          "output_type": "stream",
          "name": "stdout",
          "text": [
            "{'name': 'madhu', 'age': 18, 'native': 'VPM'}\n",
            "{'name': 'madhu', 'age': 18, 'native': 'VPM', 'nickname': 'Ammu'}\n",
            "{'native': 'VPM', 'nickname': 'Ammu'}\n"
          ]
        }
      ],
      "source": [
        "a={\"name\":\"madhu\", \"age\":18,\"native\":\"VPM\"\n",
        "   }\n",
        "print(a)\n",
        "#insert\n",
        "a[\"nickname\"]=\"Ammu\"\n",
        "print(a)\n",
        "#delete\n",
        "del a[\"name\"]\n",
        "del a[\"age\"]\n",
        "print(a)"
      ]
    },
    {
      "cell_type": "code",
      "source": [],
      "metadata": {
        "id": "_ae0ACHT4exE"
      },
      "execution_count": null,
      "outputs": []
    },
    {
      "cell_type": "markdown",
      "source": [],
      "metadata": {
        "id": "biZBbRTV2Qmq"
      }
    }
  ]
}